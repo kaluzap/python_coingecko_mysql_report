{
 "cells": [
  {
   "cell_type": "code",
   "execution_count": null,
   "metadata": {},
   "outputs": [],
   "source": [
    "import pandas as pd\n",
    "import numpy as np\n",
    "import sys\n",
    "sys.path.append('../utils')\n",
    "import handle_db as hdb\n",
    "import config as config"
   ]
  },
  {
   "cell_type": "code",
   "execution_count": 2,
   "metadata": {},
   "outputs": [],
   "source": [
    "the_symbol = 'BNB'"
   ]
  },
  {
   "cell_type": "code",
   "execution_count": 3,
   "metadata": {},
   "outputs": [
    {
     "name": "stdout",
     "output_type": "stream",
     "text": [
      "['time_re', 'price_usd', 'volume_usd', 'price_btc', 'volume_btc', 'time_lu']\n"
     ]
    }
   ],
   "source": [
    "print(config.COLUMN_NAMES)"
   ]
  },
  {
   "cell_type": "code",
   "execution_count": 4,
   "metadata": {},
   "outputs": [],
   "source": [
    "the_file = f'/home/pablo/MEGA/SEGURO_DE_DATOS/datos/old_database/{the_symbol}_todo.dat'"
   ]
  },
  {
   "cell_type": "code",
   "execution_count": 12,
   "metadata": {
    "scrolled": false
   },
   "outputs": [
    {
     "data": {
      "text/html": [
       "<div>\n",
       "<style scoped>\n",
       "    .dataframe tbody tr th:only-of-type {\n",
       "        vertical-align: middle;\n",
       "    }\n",
       "\n",
       "    .dataframe tbody tr th {\n",
       "        vertical-align: top;\n",
       "    }\n",
       "\n",
       "    .dataframe thead th {\n",
       "        text-align: right;\n",
       "    }\n",
       "</style>\n",
       "<table border=\"1\" class=\"dataframe\">\n",
       "  <thead>\n",
       "    <tr style=\"text-align: right;\">\n",
       "      <th></th>\n",
       "      <th>time_re</th>\n",
       "      <th>price_usd</th>\n",
       "      <th>price_btc</th>\n",
       "      <th>volume_usd</th>\n",
       "      <th>volume_btc</th>\n",
       "    </tr>\n",
       "  </thead>\n",
       "  <tbody>\n",
       "    <tr>\n",
       "      <th>105922</th>\n",
       "      <td>439198.852260</td>\n",
       "      <td>22.04</td>\n",
       "      <td>0.002252</td>\n",
       "      <td>412047943.0</td>\n",
       "      <td>42101.557474</td>\n",
       "    </tr>\n",
       "    <tr>\n",
       "      <th>105923</th>\n",
       "      <td>439198.940570</td>\n",
       "      <td>21.99</td>\n",
       "      <td>0.002249</td>\n",
       "      <td>432861698.0</td>\n",
       "      <td>44261.335545</td>\n",
       "    </tr>\n",
       "    <tr>\n",
       "      <th>105924</th>\n",
       "      <td>439199.029757</td>\n",
       "      <td>21.99</td>\n",
       "      <td>0.002248</td>\n",
       "      <td>434188190.0</td>\n",
       "      <td>44394.794155</td>\n",
       "    </tr>\n",
       "    <tr>\n",
       "      <th>105925</th>\n",
       "      <td>439199.120693</td>\n",
       "      <td>22.03</td>\n",
       "      <td>0.002250</td>\n",
       "      <td>432995038.0</td>\n",
       "      <td>44215.697263</td>\n",
       "    </tr>\n",
       "    <tr>\n",
       "      <th>105926</th>\n",
       "      <td>439199.209817</td>\n",
       "      <td>22.01</td>\n",
       "      <td>0.002251</td>\n",
       "      <td>445896563.0</td>\n",
       "      <td>45611.723807</td>\n",
       "    </tr>\n",
       "    <tr>\n",
       "      <th>105927</th>\n",
       "      <td>439199.299361</td>\n",
       "      <td>22.01</td>\n",
       "      <td>0.002251</td>\n",
       "      <td>445812571.0</td>\n",
       "      <td>45600.379992</td>\n",
       "    </tr>\n",
       "    <tr>\n",
       "      <th>105928</th>\n",
       "      <td>439199.389041</td>\n",
       "      <td>22.14</td>\n",
       "      <td>0.002259</td>\n",
       "      <td>434604107.0</td>\n",
       "      <td>44347.584120</td>\n",
       "    </tr>\n",
       "    <tr>\n",
       "      <th>105929</th>\n",
       "      <td>439199.477905</td>\n",
       "      <td>22.13</td>\n",
       "      <td>0.002258</td>\n",
       "      <td>447921023.0</td>\n",
       "      <td>45705.713813</td>\n",
       "    </tr>\n",
       "    <tr>\n",
       "      <th>105930</th>\n",
       "      <td>439199.567282</td>\n",
       "      <td>22.12</td>\n",
       "      <td>0.002262</td>\n",
       "      <td>436321386.0</td>\n",
       "      <td>44608.849357</td>\n",
       "    </tr>\n",
       "    <tr>\n",
       "      <th>105931</th>\n",
       "      <td>439199.656164</td>\n",
       "      <td>22.13</td>\n",
       "      <td>0.002259</td>\n",
       "      <td>407584137.0</td>\n",
       "      <td>41606.945752</td>\n",
       "    </tr>\n",
       "  </tbody>\n",
       "</table>\n",
       "</div>"
      ],
      "text/plain": [
       "              time_re  price_usd  price_btc   volume_usd    volume_btc\n",
       "105922  439198.852260      22.04   0.002252  412047943.0  42101.557474\n",
       "105923  439198.940570      21.99   0.002249  432861698.0  44261.335545\n",
       "105924  439199.029757      21.99   0.002248  434188190.0  44394.794155\n",
       "105925  439199.120693      22.03   0.002250  432995038.0  44215.697263\n",
       "105926  439199.209817      22.01   0.002251  445896563.0  45611.723807\n",
       "105927  439199.299361      22.01   0.002251  445812571.0  45600.379992\n",
       "105928  439199.389041      22.14   0.002259  434604107.0  44347.584120\n",
       "105929  439199.477905      22.13   0.002258  447921023.0  45705.713813\n",
       "105930  439199.567282      22.12   0.002262  436321386.0  44608.849357\n",
       "105931  439199.656164      22.13   0.002259  407584137.0  41606.945752"
      ]
     },
     "execution_count": 12,
     "metadata": {},
     "output_type": "execute_result"
    }
   ],
   "source": [
    "df = pd.read_csv(the_file, dtype = {'time_re':np.float64, 'price_usd':np.float64, 'price_btc':np.float64, 'volume_usd':np.float64, 'volume_btc':np.float64}, \n",
    "                 names = ['time_re', 'price_usd', 'price_btc', 'volume_usd', 'volume_btc'], \n",
    "                 usecols=[0, 1, 2, 3, 4], \n",
    "                 delim_whitespace = True)\n",
    "df = df.dropna()\n",
    "df.tail(10)"
   ]
  },
  {
   "cell_type": "code",
   "execution_count": 13,
   "metadata": {},
   "outputs": [
    {
     "data": {
      "text/html": [
       "<div>\n",
       "<style scoped>\n",
       "    .dataframe tbody tr th:only-of-type {\n",
       "        vertical-align: middle;\n",
       "    }\n",
       "\n",
       "    .dataframe tbody tr th {\n",
       "        vertical-align: top;\n",
       "    }\n",
       "\n",
       "    .dataframe thead th {\n",
       "        text-align: right;\n",
       "    }\n",
       "</style>\n",
       "<table border=\"1\" class=\"dataframe\">\n",
       "  <thead>\n",
       "    <tr style=\"text-align: right;\">\n",
       "      <th></th>\n",
       "      <th>time_re</th>\n",
       "      <th>price_usd</th>\n",
       "      <th>price_btc</th>\n",
       "      <th>volume_usd</th>\n",
       "      <th>volume_btc</th>\n",
       "      <th>time_lu</th>\n",
       "    </tr>\n",
       "  </thead>\n",
       "  <tbody>\n",
       "    <tr>\n",
       "      <th>0</th>\n",
       "      <td>1524903743</td>\n",
       "      <td>14.7569</td>\n",
       "      <td>0.001623</td>\n",
       "      <td>111687000.0</td>\n",
       "      <td>7.568460e+06</td>\n",
       "      <td>1524903743</td>\n",
       "    </tr>\n",
       "    <tr>\n",
       "      <th>1</th>\n",
       "      <td>1524903872</td>\n",
       "      <td>14.7569</td>\n",
       "      <td>0.001623</td>\n",
       "      <td>111687000.0</td>\n",
       "      <td>7.568460e+06</td>\n",
       "      <td>1524903872</td>\n",
       "    </tr>\n",
       "    <tr>\n",
       "      <th>2</th>\n",
       "      <td>1524903940</td>\n",
       "      <td>14.7668</td>\n",
       "      <td>0.001622</td>\n",
       "      <td>111514000.0</td>\n",
       "      <td>7.551670e+06</td>\n",
       "      <td>1524903940</td>\n",
       "    </tr>\n",
       "    <tr>\n",
       "      <th>3</th>\n",
       "      <td>1524904064</td>\n",
       "      <td>14.7668</td>\n",
       "      <td>0.001622</td>\n",
       "      <td>111514000.0</td>\n",
       "      <td>7.551670e+06</td>\n",
       "      <td>1524904064</td>\n",
       "    </tr>\n",
       "    <tr>\n",
       "      <th>4</th>\n",
       "      <td>1524904185</td>\n",
       "      <td>14.7704</td>\n",
       "      <td>0.001622</td>\n",
       "      <td>111475000.0</td>\n",
       "      <td>7.547189e+06</td>\n",
       "      <td>1524904185</td>\n",
       "    </tr>\n",
       "  </tbody>\n",
       "</table>\n",
       "</div>"
      ],
      "text/plain": [
       "      time_re  price_usd  price_btc   volume_usd    volume_btc     time_lu\n",
       "0  1524903743    14.7569   0.001623  111687000.0  7.568460e+06  1524903743\n",
       "1  1524903872    14.7569   0.001623  111687000.0  7.568460e+06  1524903872\n",
       "2  1524903940    14.7668   0.001622  111514000.0  7.551670e+06  1524903940\n",
       "3  1524904064    14.7668   0.001622  111514000.0  7.551670e+06  1524904064\n",
       "4  1524904185    14.7704   0.001622  111475000.0  7.547189e+06  1524904185"
      ]
     },
     "execution_count": 13,
     "metadata": {},
     "output_type": "execute_result"
    }
   ],
   "source": [
    "df['time_re'] = df['time_re'].apply(lambda x : int(round(x*3600,0)))\n",
    "df['time_lu'] = df['time_re']\n",
    "df = df.drop_duplicates(subset=\"time_re\", keep=\"last\")\n",
    "df = df.sort_values([\"time_re\"])\n",
    "#df = df.reset_index()\n",
    "df.head()"
   ]
  },
  {
   "cell_type": "code",
   "execution_count": 18,
   "metadata": {
    "scrolled": true
   },
   "outputs": [
    {
     "name": "stdout",
     "output_type": "stream",
     "text": [
      "(105461, 6)\n"
     ]
    },
    {
     "data": {
      "text/plain": [
       "<matplotlib.axes._subplots.AxesSubplot at 0x7ff38e0102b0>"
      ]
     },
     "execution_count": 18,
     "metadata": {},
     "output_type": "execute_result"
    },
    {
     "data": {
      "image/png": "[encoded data removed]",
      "text/plain": [
       "<matplotlib.figure.Figure at 0x7ff38ddda518>"
      ]
     },
     "metadata": {},
     "output_type": "display_data"
    }
   ],
   "source": [
    "print(df.shape)\n",
    "df.plot('time_re', 'price_btc')"
   ]
  },
  {
   "cell_type": "code",
   "execution_count": 16,
   "metadata": {},
   "outputs": [],
   "source": [
    "cnx = hdb.start_mysql_connection(config.DATABASES['old_data'])\n",
    "cursor = cnx.cursor(buffered=True)"
   ]
  },
  {
   "cell_type": "code",
   "execution_count": 17,
   "metadata": {},
   "outputs": [
    {
     "data": {
      "text/plain": [
       "True"
      ]
     },
     "execution_count": 17,
     "metadata": {},
     "output_type": "execute_result"
    }
   ],
   "source": [
    "hdb.create_table(cursor, cnx, the_symbol)\n"
   ]
  },
  {
   "cell_type": "code",
   "execution_count": null,
   "metadata": {},
   "outputs": [],
   "source": [
    "for index, row in df.iterrows():\n",
    "    hdb.write_a_line(cursor, cnx, the_symbol, row.to_dict())"
   ]
  }
 ],
 "metadata": {
  "kernelspec": {
   "display_name": "Python 3",
   "language": "python",
   "name": "python3"
  },
  "language_info": {
   "codemirror_mode": {
    "name": "ipython",
    "version": 3
   },
   "file_extension": ".py",
   "mimetype": "text/x-python",
   "name": "python",
   "nbconvert_exporter": "python",
   "pygments_lexer": "ipython3",
   "version": "3.6.9"
  }
 },
 "nbformat": 4,
 "nbformat_minor": 2
}
