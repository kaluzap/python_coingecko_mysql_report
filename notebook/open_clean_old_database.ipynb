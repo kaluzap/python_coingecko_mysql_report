{
 "cells": [
  {
   "cell_type": "code",
   "execution_count": 1,
   "metadata": {},
   "outputs": [],
   "source": [
    "import pandas as pd\n",
    "import numpy as np\n",
    "import sys\n",
    "sys.path.append('../utils')\n",
    "import handle_db as hdb\n",
    "import config as config"
   ]
  },
  {
   "cell_type": "code",
   "execution_count": 59,
   "metadata": {
    "scrolled": true
   },
   "outputs": [
    {
     "name": "stdout",
     "output_type": "stream",
     "text": [
      "['time_re', 'price_usd', 'volume_usd', 'price_btc', 'volume_btc', 'time_lu']\n"
     ]
    }
   ],
   "source": [
    "the_symbol = 'BCN'\n",
    "print(config.COLUMN_NAMES)\n",
    "the_file = f'/home/pablo/MEGA/SEGURO_DE_DATOS/datos/old_database/{the_symbol}_todo.dat'"
   ]
  },
  {
   "cell_type": "code",
   "execution_count": 60,
   "metadata": {
    "scrolled": true
   },
   "outputs": [
    {
     "data": {
      "text/html": [
       "<div>\n",
       "<style scoped>\n",
       "    .dataframe tbody tr th:only-of-type {\n",
       "        vertical-align: middle;\n",
       "    }\n",
       "\n",
       "    .dataframe tbody tr th {\n",
       "        vertical-align: top;\n",
       "    }\n",
       "\n",
       "    .dataframe thead th {\n",
       "        text-align: right;\n",
       "    }\n",
       "</style>\n",
       "<table border=\"1\" class=\"dataframe\">\n",
       "  <thead>\n",
       "    <tr style=\"text-align: right;\">\n",
       "      <th></th>\n",
       "      <th>time_re</th>\n",
       "      <th>price_usd</th>\n",
       "      <th>price_btc</th>\n",
       "      <th>volume_usd</th>\n",
       "      <th>volume_btc</th>\n",
       "    </tr>\n",
       "  </thead>\n",
       "  <tbody>\n",
       "    <tr>\n",
       "      <th>0</th>\n",
       "      <td>434791.672292</td>\n",
       "      <td>0.000590</td>\n",
       "      <td>5.004666e-08</td>\n",
       "      <td>58226.0</td>\n",
       "      <td>4.939849</td>\n",
       "    </tr>\n",
       "    <tr>\n",
       "      <th>1</th>\n",
       "      <td>434791.762916</td>\n",
       "      <td>0.000589</td>\n",
       "      <td>4.996439e-08</td>\n",
       "      <td>57861.0</td>\n",
       "      <td>4.905969</td>\n",
       "    </tr>\n",
       "    <tr>\n",
       "      <th>2</th>\n",
       "      <td>434791.850908</td>\n",
       "      <td>0.000590</td>\n",
       "      <td>4.990194e-08</td>\n",
       "      <td>58039.0</td>\n",
       "      <td>4.906086</td>\n",
       "    </tr>\n",
       "    <tr>\n",
       "      <th>3</th>\n",
       "      <td>434791.941896</td>\n",
       "      <td>0.000591</td>\n",
       "      <td>4.989622e-08</td>\n",
       "      <td>57927.0</td>\n",
       "      <td>4.887530</td>\n",
       "    </tr>\n",
       "    <tr>\n",
       "      <th>4</th>\n",
       "      <td>434792.035596</td>\n",
       "      <td>0.000592</td>\n",
       "      <td>4.983662e-08</td>\n",
       "      <td>57978.0</td>\n",
       "      <td>4.882769</td>\n",
       "    </tr>\n",
       "    <tr>\n",
       "      <th>5</th>\n",
       "      <td>434792.124672</td>\n",
       "      <td>0.000594</td>\n",
       "      <td>4.988835e-08</td>\n",
       "      <td>51961.0</td>\n",
       "      <td>4.362072</td>\n",
       "    </tr>\n",
       "    <tr>\n",
       "      <th>6</th>\n",
       "      <td>434792.212412</td>\n",
       "      <td>0.000596</td>\n",
       "      <td>4.992628e-08</td>\n",
       "      <td>51786.0</td>\n",
       "      <td>4.338276</td>\n",
       "    </tr>\n",
       "    <tr>\n",
       "      <th>7</th>\n",
       "      <td>434792.303000</td>\n",
       "      <td>0.000531</td>\n",
       "      <td>4.462185e-08</td>\n",
       "      <td>45627.0</td>\n",
       "      <td>3.834202</td>\n",
       "    </tr>\n",
       "    <tr>\n",
       "      <th>8</th>\n",
       "      <td>434792.391571</td>\n",
       "      <td>0.000531</td>\n",
       "      <td>4.456598e-08</td>\n",
       "      <td>45595.0</td>\n",
       "      <td>3.827653</td>\n",
       "    </tr>\n",
       "    <tr>\n",
       "      <th>9</th>\n",
       "      <td>434792.479492</td>\n",
       "      <td>0.000530</td>\n",
       "      <td>4.456463e-08</td>\n",
       "      <td>45377.0</td>\n",
       "      <td>3.813834</td>\n",
       "    </tr>\n",
       "  </tbody>\n",
       "</table>\n",
       "</div>"
      ],
      "text/plain": [
       "         time_re  price_usd     price_btc  volume_usd  volume_btc\n",
       "0  434791.672292   0.000590  5.004666e-08     58226.0    4.939849\n",
       "1  434791.762916   0.000589  4.996439e-08     57861.0    4.905969\n",
       "2  434791.850908   0.000590  4.990194e-08     58039.0    4.906086\n",
       "3  434791.941896   0.000591  4.989622e-08     57927.0    4.887530\n",
       "4  434792.035596   0.000592  4.983662e-08     57978.0    4.882769\n",
       "5  434792.124672   0.000594  4.988835e-08     51961.0    4.362072\n",
       "6  434792.212412   0.000596  4.992628e-08     51786.0    4.338276\n",
       "7  434792.303000   0.000531  4.462185e-08     45627.0    3.834202\n",
       "8  434792.391571   0.000531  4.456598e-08     45595.0    3.827653\n",
       "9  434792.479492   0.000530  4.456463e-08     45377.0    3.813834"
      ]
     },
     "execution_count": 60,
     "metadata": {},
     "output_type": "execute_result"
    }
   ],
   "source": [
    "df1 = pd.read_csv(the_file,  \n",
    "                 names = ['time_re', 'price_usd', 'price_btc', 'volume_usd', 'volume_btc'], \n",
    "                 dtype = {'time_re':np.float64, 'price_usd':np.float64, 'price_btc':np.float64, 'volume_usd':np.float64, 'volume_btc':np.float64},\n",
    "                 usecols=[0, 1, 2, 3, 4], \n",
    "                 delim_whitespace = True)\n",
    "df = df.dropna()\n",
    "df.head(10)"
   ]
  },
  {
   "cell_type": "code",
   "execution_count": 58,
   "metadata": {},
   "outputs": [
    {
     "data": {
      "text/html": [
       "<div>\n",
       "<style scoped>\n",
       "    .dataframe tbody tr th:only-of-type {\n",
       "        vertical-align: middle;\n",
       "    }\n",
       "\n",
       "    .dataframe tbody tr th {\n",
       "        vertical-align: top;\n",
       "    }\n",
       "\n",
       "    .dataframe thead th {\n",
       "        text-align: right;\n",
       "    }\n",
       "</style>\n",
       "<table border=\"1\" class=\"dataframe\">\n",
       "  <thead>\n",
       "    <tr style=\"text-align: right;\">\n",
       "      <th></th>\n",
       "      <th>time_re</th>\n",
       "      <th>price_usd</th>\n",
       "      <th>price_btc</th>\n",
       "      <th>volume_usd</th>\n",
       "      <th>volume_btc</th>\n",
       "    </tr>\n",
       "  </thead>\n",
       "  <tbody>\n",
       "    <tr>\n",
       "      <th>0</th>\n",
       "      <td>434791.672292</td>\n",
       "      <td>0.000590</td>\n",
       "      <td>5.004666e-08</td>\n",
       "      <td>58226.0</td>\n",
       "      <td>4.939849</td>\n",
       "    </tr>\n",
       "    <tr>\n",
       "      <th>1</th>\n",
       "      <td>434791.762916</td>\n",
       "      <td>0.000589</td>\n",
       "      <td>4.996439e-08</td>\n",
       "      <td>57861.0</td>\n",
       "      <td>4.905969</td>\n",
       "    </tr>\n",
       "    <tr>\n",
       "      <th>2</th>\n",
       "      <td>434791.850908</td>\n",
       "      <td>0.000590</td>\n",
       "      <td>4.990194e-08</td>\n",
       "      <td>58039.0</td>\n",
       "      <td>4.906086</td>\n",
       "    </tr>\n",
       "    <tr>\n",
       "      <th>3</th>\n",
       "      <td>434791.941896</td>\n",
       "      <td>0.000591</td>\n",
       "      <td>4.989622e-08</td>\n",
       "      <td>57927.0</td>\n",
       "      <td>4.887530</td>\n",
       "    </tr>\n",
       "    <tr>\n",
       "      <th>4</th>\n",
       "      <td>434792.035596</td>\n",
       "      <td>0.000592</td>\n",
       "      <td>4.983662e-08</td>\n",
       "      <td>57978.0</td>\n",
       "      <td>4.882769</td>\n",
       "    </tr>\n",
       "  </tbody>\n",
       "</table>\n",
       "</div>"
      ],
      "text/plain": [
       "         time_re  price_usd     price_btc  volume_usd  volume_btc\n",
       "0  434791.672292   0.000590  5.004666e-08     58226.0    4.939849\n",
       "1  434791.762916   0.000589  4.996439e-08     57861.0    4.905969\n",
       "2  434791.850908   0.000590  4.990194e-08     58039.0    4.906086\n",
       "3  434791.941896   0.000591  4.989622e-08     57927.0    4.887530\n",
       "4  434792.035596   0.000592  4.983662e-08     57978.0    4.882769"
      ]
     },
     "execution_count": 58,
     "metadata": {},
     "output_type": "execute_result"
    }
   ],
   "source": [
    "df2.head()"
   ]
  },
  {
   "cell_type": "code",
   "execution_count": 61,
   "metadata": {},
   "outputs": [
    {
     "data": {
      "text/html": [
       "<div>\n",
       "<style scoped>\n",
       "    .dataframe tbody tr th:only-of-type {\n",
       "        vertical-align: middle;\n",
       "    }\n",
       "\n",
       "    .dataframe tbody tr th {\n",
       "        vertical-align: top;\n",
       "    }\n",
       "\n",
       "    .dataframe thead th {\n",
       "        text-align: right;\n",
       "    }\n",
       "</style>\n",
       "<table border=\"1\" class=\"dataframe\">\n",
       "  <thead>\n",
       "    <tr style=\"text-align: right;\">\n",
       "      <th></th>\n",
       "      <th>time_re</th>\n",
       "      <th>price_usd</th>\n",
       "      <th>price_btc</th>\n",
       "      <th>volume_usd</th>\n",
       "      <th>volume_btc</th>\n",
       "    </tr>\n",
       "  </thead>\n",
       "  <tbody>\n",
       "    <tr>\n",
       "      <th>0</th>\n",
       "      <td>425000.484167</td>\n",
       "      <td>0.002736</td>\n",
       "      <td>4.400000e-07</td>\n",
       "      <td>5936200.0</td>\n",
       "      <td>954.248723</td>\n",
       "    </tr>\n",
       "    <tr>\n",
       "      <th>1</th>\n",
       "      <td>425000.650833</td>\n",
       "      <td>0.002741</td>\n",
       "      <td>4.400000e-07</td>\n",
       "      <td>5941300.0</td>\n",
       "      <td>954.345982</td>\n",
       "    </tr>\n",
       "    <tr>\n",
       "      <th>2</th>\n",
       "      <td>425000.734444</td>\n",
       "      <td>0.002745</td>\n",
       "      <td>4.400000e-07</td>\n",
       "      <td>5947850.0</td>\n",
       "      <td>954.977795</td>\n",
       "    </tr>\n",
       "    <tr>\n",
       "      <th>3</th>\n",
       "      <td>425000.817778</td>\n",
       "      <td>0.002747</td>\n",
       "      <td>4.400000e-07</td>\n",
       "      <td>5949080.0</td>\n",
       "      <td>954.511688</td>\n",
       "    </tr>\n",
       "    <tr>\n",
       "      <th>4</th>\n",
       "      <td>425000.900833</td>\n",
       "      <td>0.002744</td>\n",
       "      <td>4.400000e-07</td>\n",
       "      <td>5494560.0</td>\n",
       "      <td>881.606562</td>\n",
       "    </tr>\n",
       "  </tbody>\n",
       "</table>\n",
       "</div>"
      ],
      "text/plain": [
       "         time_re  price_usd     price_btc  volume_usd  volume_btc\n",
       "0  425000.484167   0.002736  4.400000e-07   5936200.0  954.248723\n",
       "1  425000.650833   0.002741  4.400000e-07   5941300.0  954.345982\n",
       "2  425000.734444   0.002745  4.400000e-07   5947850.0  954.977795\n",
       "3  425000.817778   0.002747  4.400000e-07   5949080.0  954.511688\n",
       "4  425000.900833   0.002744  4.400000e-07   5494560.0  881.606562"
      ]
     },
     "execution_count": 61,
     "metadata": {},
     "output_type": "execute_result"
    }
   ],
   "source": [
    "df1.head()"
   ]
  },
  {
   "cell_type": "code",
   "execution_count": 70,
   "metadata": {},
   "outputs": [
    {
     "data": {
      "text/html": [
       "<div>\n",
       "<style scoped>\n",
       "    .dataframe tbody tr th:only-of-type {\n",
       "        vertical-align: middle;\n",
       "    }\n",
       "\n",
       "    .dataframe tbody tr th {\n",
       "        vertical-align: top;\n",
       "    }\n",
       "\n",
       "    .dataframe thead th {\n",
       "        text-align: right;\n",
       "    }\n",
       "</style>\n",
       "<table border=\"1\" class=\"dataframe\">\n",
       "  <thead>\n",
       "    <tr style=\"text-align: right;\">\n",
       "      <th></th>\n",
       "      <th>time_re</th>\n",
       "      <th>price_usd</th>\n",
       "      <th>price_btc</th>\n",
       "      <th>volume_usd</th>\n",
       "      <th>volume_btc</th>\n",
       "    </tr>\n",
       "  </thead>\n",
       "  <tbody>\n",
       "    <tr>\n",
       "      <th>0</th>\n",
       "      <td>425000.484167</td>\n",
       "      <td>0.002736</td>\n",
       "      <td>4.400000e-07</td>\n",
       "      <td>5936200.0</td>\n",
       "      <td>954.248723</td>\n",
       "    </tr>\n",
       "    <tr>\n",
       "      <th>1</th>\n",
       "      <td>425000.650833</td>\n",
       "      <td>0.002741</td>\n",
       "      <td>4.400000e-07</td>\n",
       "      <td>5941300.0</td>\n",
       "      <td>954.345982</td>\n",
       "    </tr>\n",
       "    <tr>\n",
       "      <th>2</th>\n",
       "      <td>425000.734444</td>\n",
       "      <td>0.002745</td>\n",
       "      <td>4.400000e-07</td>\n",
       "      <td>5947850.0</td>\n",
       "      <td>954.977795</td>\n",
       "    </tr>\n",
       "    <tr>\n",
       "      <th>3</th>\n",
       "      <td>425000.817778</td>\n",
       "      <td>0.002747</td>\n",
       "      <td>4.400000e-07</td>\n",
       "      <td>5949080.0</td>\n",
       "      <td>954.511688</td>\n",
       "    </tr>\n",
       "    <tr>\n",
       "      <th>4</th>\n",
       "      <td>425000.900833</td>\n",
       "      <td>0.002744</td>\n",
       "      <td>4.400000e-07</td>\n",
       "      <td>5494560.0</td>\n",
       "      <td>881.606562</td>\n",
       "    </tr>\n",
       "  </tbody>\n",
       "</table>\n",
       "</div>"
      ],
      "text/plain": [
       "         time_re  price_usd     price_btc  volume_usd  volume_btc\n",
       "0  425000.484167   0.002736  4.400000e-07   5936200.0  954.248723\n",
       "1  425000.650833   0.002741  4.400000e-07   5941300.0  954.345982\n",
       "2  425000.734444   0.002745  4.400000e-07   5947850.0  954.977795\n",
       "3  425000.817778   0.002747  4.400000e-07   5949080.0  954.511688\n",
       "4  425000.900833   0.002744  4.400000e-07   5494560.0  881.606562"
      ]
     },
     "execution_count": 70,
     "metadata": {},
     "output_type": "execute_result"
    }
   ],
   "source": [
    "df = pd.concat([df1,df2], ignore_index=True).dropna()\n",
    "df.head()"
   ]
  },
  {
   "cell_type": "code",
   "execution_count": 71,
   "metadata": {},
   "outputs": [
    {
     "data": {
      "text/html": [
       "<div>\n",
       "<style scoped>\n",
       "    .dataframe tbody tr th:only-of-type {\n",
       "        vertical-align: middle;\n",
       "    }\n",
       "\n",
       "    .dataframe tbody tr th {\n",
       "        vertical-align: top;\n",
       "    }\n",
       "\n",
       "    .dataframe thead th {\n",
       "        text-align: right;\n",
       "    }\n",
       "</style>\n",
       "<table border=\"1\" class=\"dataframe\">\n",
       "  <thead>\n",
       "    <tr style=\"text-align: right;\">\n",
       "      <th></th>\n",
       "      <th>time_re</th>\n",
       "      <th>price_usd</th>\n",
       "      <th>volume_usd</th>\n",
       "      <th>price_btc</th>\n",
       "      <th>volume_btc</th>\n",
       "      <th>time_lu</th>\n",
       "    </tr>\n",
       "  </thead>\n",
       "  <tbody>\n",
       "    <tr>\n",
       "      <th>90321</th>\n",
       "      <td>1581025253</td>\n",
       "      <td>0.000369</td>\n",
       "      <td>18863.44</td>\n",
       "      <td>3.786768e-08</td>\n",
       "      <td>1.937966</td>\n",
       "      <td>1581025253</td>\n",
       "    </tr>\n",
       "    <tr>\n",
       "      <th>90322</th>\n",
       "      <td>1581025578</td>\n",
       "      <td>0.000369</td>\n",
       "      <td>18951.71</td>\n",
       "      <td>3.789370e-08</td>\n",
       "      <td>1.947526</td>\n",
       "      <td>1581025578</td>\n",
       "    </tr>\n",
       "    <tr>\n",
       "      <th>90323</th>\n",
       "      <td>1581025900</td>\n",
       "      <td>0.000369</td>\n",
       "      <td>18764.33</td>\n",
       "      <td>3.783158e-08</td>\n",
       "      <td>1.924953</td>\n",
       "      <td>1581025900</td>\n",
       "    </tr>\n",
       "    <tr>\n",
       "      <th>90324</th>\n",
       "      <td>1581026219</td>\n",
       "      <td>0.000299</td>\n",
       "      <td>15271.55</td>\n",
       "      <td>3.066501e-08</td>\n",
       "      <td>1.567224</td>\n",
       "      <td>1581026219</td>\n",
       "    </tr>\n",
       "    <tr>\n",
       "      <th>90325</th>\n",
       "      <td>1581026545</td>\n",
       "      <td>0.000299</td>\n",
       "      <td>15760.41</td>\n",
       "      <td>3.072105e-08</td>\n",
       "      <td>1.617263</td>\n",
       "      <td>1581026545</td>\n",
       "    </tr>\n",
       "  </tbody>\n",
       "</table>\n",
       "</div>"
      ],
      "text/plain": [
       "          time_re  price_usd  volume_usd     price_btc  volume_btc     time_lu\n",
       "90321  1581025253   0.000369    18863.44  3.786768e-08    1.937966  1581025253\n",
       "90322  1581025578   0.000369    18951.71  3.789370e-08    1.947526  1581025578\n",
       "90323  1581025900   0.000369    18764.33  3.783158e-08    1.924953  1581025900\n",
       "90324  1581026219   0.000299    15271.55  3.066501e-08    1.567224  1581026219\n",
       "90325  1581026545   0.000299    15760.41  3.072105e-08    1.617263  1581026545"
      ]
     },
     "execution_count": 71,
     "metadata": {},
     "output_type": "execute_result"
    }
   ],
   "source": [
    "df['time_re'] = df['time_re'].apply(lambda x : int(round(x*3600,0)))\n",
    "df['time_lu'] = df['time_re']\n",
    "df = df.drop_duplicates(subset=\"time_re\", keep=\"last\")\n",
    "df = df.sort_values([\"time_re\"])\n",
    "#df = df.reset_index()\n",
    "df = df[config.COLUMN_NAMES]\n",
    "df.tail()"
   ]
  },
  {
   "cell_type": "code",
   "execution_count": 72,
   "metadata": {
    "scrolled": false
   },
   "outputs": [
    {
     "name": "stdout",
     "output_type": "stream",
     "text": [
      "(90125, 6)\n"
     ]
    },
    {
     "data": {
      "text/plain": [
       "<matplotlib.axes._subplots.AxesSubplot at 0x7fc866855f98>"
      ]
     },
     "execution_count": 72,
     "metadata": {},
     "output_type": "execute_result"
    },
    {
     "data": {
      "image/png": "[encoded data removed]",
      "text/plain": [
       "<matplotlib.figure.Figure at 0x7fc8645e4a58>"
      ]
     },
     "metadata": {},
     "output_type": "display_data"
    },
    {
     "data": {
      "image/png": "[encoded data removed]",
      "text/plain": [
       "<matplotlib.figure.Figure at 0x7fc866842cf8>"
      ]
     },
     "metadata": {},
     "output_type": "display_data"
    }
   ],
   "source": [
    "print(df.shape)\n",
    "df.plot('time_re', 'price_btc')\n",
    "df.plot('time_re', 'price_usd')"
   ]
  },
  {
   "cell_type": "code",
   "execution_count": null,
   "metadata": {},
   "outputs": [],
   "source": [
    "df[df['price_btc'] == df['price_btc'].max()]"
   ]
  },
  {
   "cell_type": "code",
   "execution_count": 73,
   "metadata": {},
   "outputs": [],
   "source": [
    "cnx = hdb.start_mysql_connection(config.DATABASES['old_data'])\n",
    "cursor = cnx.cursor(buffered=True)"
   ]
  },
  {
   "cell_type": "code",
   "execution_count": 74,
   "metadata": {},
   "outputs": [
    {
     "data": {
      "text/plain": [
       "True"
      ]
     },
     "execution_count": 74,
     "metadata": {},
     "output_type": "execute_result"
    }
   ],
   "source": [
    "hdb.create_table(cursor, cnx, the_symbol)\n"
   ]
  },
  {
   "cell_type": "code",
   "execution_count": 75,
   "metadata": {},
   "outputs": [],
   "source": [
    "df.to_csv(\"temp.csv\", header=False, index=False, sep='\\t')"
   ]
  },
  {
   "cell_type": "code",
   "execution_count": null,
   "metadata": {},
   "outputs": [],
   "source": [
    "for index, row in df.iterrows():\n",
    "    hdb.write_a_line(cursor, cnx, the_symbol, row.to_dict())"
   ]
  }
 ],
 "metadata": {
  "kernelspec": {
   "display_name": "Python 3",
   "language": "python",
   "name": "python3"
  },
  "language_info": {
   "codemirror_mode": {
    "name": "ipython",
    "version": 3
   },
   "file_extension": ".py",
   "mimetype": "text/x-python",
   "name": "python",
   "nbconvert_exporter": "python",
   "pygments_lexer": "ipython3",
   "version": "3.6.9"
  }
 },
 "nbformat": 4,
 "nbformat_minor": 2
}
