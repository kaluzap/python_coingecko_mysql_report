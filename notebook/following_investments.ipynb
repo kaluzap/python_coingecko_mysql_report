{
 "cells": [
  {
   "cell_type": "code",
   "execution_count": 34,
   "metadata": {},
   "outputs": [],
   "source": [
    "import pandas as pd\n",
    "from datetime import datetime\n",
    "\n",
    "import sys\n",
    "# insert at 1, 0 is the script path (or '' in REPL)\n",
    "sys.path.insert(1, '../')\n",
    "import make_report_evolutions as mre"
   ]
  },
  {
   "cell_type": "code",
   "execution_count": 31,
   "metadata": {},
   "outputs": [],
   "source": [
    "#loading file\n",
    "df = pd.read_csv('../list_investments/my_list_of_investments.csv', skipinitialspace=True)\n",
    "\n",
    "#Removing missing time values\n",
    "df['start_date'] = df['start_date'].fillna(datetime.now())\n",
    "df['end_date'] = df['end_date'].fillna(datetime.now())\n",
    "\n",
    "#Fixing data types\n",
    "df['start_date'] = pd.to_datetime(df['start_date'])\n",
    "df['end_date'] = pd.to_datetime(df['end_date'])\n",
    "\n",
    "#Time differences\n",
    "df['delta_t'] = (df['end_date'] - df['start_date'])#.astype('timedelta64[s]')"
   ]
  },
  {
   "cell_type": "code",
   "execution_count": 32,
   "metadata": {},
   "outputs": [
    {
     "data": {
      "text/html": [
       "<div>\n",
       "<style scoped>\n",
       "    .dataframe tbody tr th:only-of-type {\n",
       "        vertical-align: middle;\n",
       "    }\n",
       "\n",
       "    .dataframe tbody tr th {\n",
       "        vertical-align: top;\n",
       "    }\n",
       "\n",
       "    .dataframe thead th {\n",
       "        text-align: right;\n",
       "    }\n",
       "</style>\n",
       "<table border=\"1\" class=\"dataframe\">\n",
       "  <thead>\n",
       "    <tr style=\"text-align: right;\">\n",
       "      <th></th>\n",
       "      <th>coin</th>\n",
       "      <th>amount</th>\n",
       "      <th>type</th>\n",
       "      <th>start_date</th>\n",
       "      <th>end_date</th>\n",
       "      <th>start_value_usd</th>\n",
       "      <th>end_value_usd</th>\n",
       "      <th>start_value_btc</th>\n",
       "      <th>end_value_btc</th>\n",
       "      <th>delta_t</th>\n",
       "    </tr>\n",
       "  </thead>\n",
       "  <tbody>\n",
       "    <tr>\n",
       "      <th>0</th>\n",
       "      <td>BTG</td>\n",
       "      <td>12.0000</td>\n",
       "      <td>bitcoin</td>\n",
       "      <td>2019-04-27 12:00:00</td>\n",
       "      <td>2020-01-19 23:01:32.881673</td>\n",
       "      <td>887.2</td>\n",
       "      <td>NaN</td>\n",
       "      <td>0.1000</td>\n",
       "      <td>NaN</td>\n",
       "      <td>267 days 11:01:32.881673</td>\n",
       "    </tr>\n",
       "    <tr>\n",
       "      <th>1</th>\n",
       "      <td>BTC</td>\n",
       "      <td>0.0571</td>\n",
       "      <td>usd</td>\n",
       "      <td>2019-07-11 13:00:00</td>\n",
       "      <td>2019-08-06 00:00:00.000000</td>\n",
       "      <td>653.3</td>\n",
       "      <td>694.03</td>\n",
       "      <td>0.0571</td>\n",
       "      <td>0.0571</td>\n",
       "      <td>25 days 11:00:00</td>\n",
       "    </tr>\n",
       "  </tbody>\n",
       "</table>\n",
       "</div>"
      ],
      "text/plain": [
       "       coin   amount        type          start_date  \\\n",
       "0  BTG       12.0000  bitcoin    2019-04-27 12:00:00   \n",
       "1  BTC        0.0571  usd        2019-07-11 13:00:00   \n",
       "\n",
       "                    end_date  start_value_usd  end_value_usd  start_value_btc  \\\n",
       "0 2020-01-19 23:01:32.881673            887.2            NaN           0.1000   \n",
       "1 2019-08-06 00:00:00.000000            653.3         694.03           0.0571   \n",
       "\n",
       "   end_value_btc                  delta_t  \n",
       "0            NaN 267 days 11:01:32.881673  \n",
       "1         0.0571         25 days 11:00:00  "
      ]
     },
     "execution_count": 32,
     "metadata": {},
     "output_type": "execute_result"
    }
   ],
   "source": [
    "df.head()"
   ]
  },
  {
   "cell_type": "code",
   "execution_count": 14,
   "metadata": {},
   "outputs": [
    {
     "data": {
      "text/plain": [
       "coin                       object\n",
       "amount                    float64\n",
       "type                       object\n",
       "start_date                 object\n",
       "end_date                   object\n",
       "start_value_usd           float64\n",
       "end_value_usd             float64\n",
       "start_value_btc           float64\n",
       "end_value_btc             float64\n",
       "dtype: object"
      ]
     },
     "execution_count": 14,
     "metadata": {},
     "output_type": "execute_result"
    }
   ],
   "source": [
    "df.dtypes"
   ]
  },
  {
   "cell_type": "code",
   "execution_count": 41,
   "metadata": {},
   "outputs": [],
   "source": [
    "data  = mre.read_crypto_data('BTC',1000000)[['time_re', 'price_usd', 'price_btc']]"
   ]
  },
  {
   "cell_type": "code",
   "execution_count": 42,
   "metadata": {},
   "outputs": [
    {
     "data": {
      "text/html": [
       "<div>\n",
       "<style scoped>\n",
       "    .dataframe tbody tr th:only-of-type {\n",
       "        vertical-align: middle;\n",
       "    }\n",
       "\n",
       "    .dataframe tbody tr th {\n",
       "        vertical-align: top;\n",
       "    }\n",
       "\n",
       "    .dataframe thead th {\n",
       "        text-align: right;\n",
       "    }\n",
       "</style>\n",
       "<table border=\"1\" class=\"dataframe\">\n",
       "  <thead>\n",
       "    <tr style=\"text-align: right;\">\n",
       "      <th></th>\n",
       "      <th>time_re</th>\n",
       "      <th>price_usd</th>\n",
       "      <th>price_btc</th>\n",
       "    </tr>\n",
       "  </thead>\n",
       "  <tbody>\n",
       "    <tr>\n",
       "      <th>0</th>\n",
       "      <td>1571948109</td>\n",
       "      <td>7469.96</td>\n",
       "      <td>1.0</td>\n",
       "    </tr>\n",
       "    <tr>\n",
       "      <th>1</th>\n",
       "      <td>1571948411</td>\n",
       "      <td>7468.35</td>\n",
       "      <td>1.0</td>\n",
       "    </tr>\n",
       "    <tr>\n",
       "      <th>2</th>\n",
       "      <td>1571948715</td>\n",
       "      <td>7464.74</td>\n",
       "      <td>1.0</td>\n",
       "    </tr>\n",
       "    <tr>\n",
       "      <th>3</th>\n",
       "      <td>1571949020</td>\n",
       "      <td>7467.54</td>\n",
       "      <td>1.0</td>\n",
       "    </tr>\n",
       "    <tr>\n",
       "      <th>4</th>\n",
       "      <td>1571949321</td>\n",
       "      <td>7466.81</td>\n",
       "      <td>1.0</td>\n",
       "    </tr>\n",
       "  </tbody>\n",
       "</table>\n",
       "</div>"
      ],
      "text/plain": [
       "      time_re  price_usd  price_btc\n",
       "0  1571948109    7469.96        1.0\n",
       "1  1571948411    7468.35        1.0\n",
       "2  1571948715    7464.74        1.0\n",
       "3  1571949020    7467.54        1.0\n",
       "4  1571949321    7466.81        1.0"
      ]
     },
     "execution_count": 42,
     "metadata": {},
     "output_type": "execute_result"
    }
   ],
   "source": [
    "data.head()"
   ]
  }
 ],
 "metadata": {
  "kernelspec": {
   "display_name": "Python 3",
   "language": "python",
   "name": "python3"
  },
  "language_info": {
   "codemirror_mode": {
    "name": "ipython",
    "version": 3
   },
   "file_extension": ".py",
   "mimetype": "text/x-python",
   "name": "python",
   "nbconvert_exporter": "python",
   "pygments_lexer": "ipython3",
   "version": "3.6.9"
  }
 },
 "nbformat": 4,
 "nbformat_minor": 2
}
